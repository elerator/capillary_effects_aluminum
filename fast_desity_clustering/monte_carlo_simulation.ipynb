{
 "cells": [
  {
   "cell_type": "markdown",
   "metadata": {},
   "source": [
    "The proposed approach is a variation of mean shift clustering that allows for fast computation."
   ]
  },
  {
   "cell_type": "code",
   "execution_count": 180,
   "metadata": {},
   "outputs": [],
   "source": [
    "import numpy as np\n",
    "import scipy.stats as st\n",
    "\n",
    "class FastDensityClustering():\n",
    "    @staticmethod\n",
    "    def gaussian_kernel(size=21, nsig=3):\n",
    "        \"\"\"Returns a 2D Gaussian kernel.\n",
    "        Args:\n",
    "            size: The size of the kernel (size x size)\n",
    "            nsig: Sigma of the gaussian\n",
    "        \"\"\"\n",
    "        x = np.linspace(-nsig, nsig, size+1)\n",
    "        kern1d = np.diff(st.norm.cdf(x))\n",
    "        kern2d = np.outer(kern1d, kern1d)\n",
    "        return kern2d/kern2d.sum()\n",
    "    \n",
    "    @staticmethod\n",
    "    def density_from_coordinates(coords, shape = [200,200]):\n",
    "        coords[0] = coords[0]-np.min(coords[0])\n",
    "        coords[1] = coords[1]-np.min(coords[1])\n",
    "        coords[0] = coords[0]/np.max(coords[0])\n",
    "        coords[1] = coords[1]/np.max(coords[1])\n",
    "        density = np.zeros(shape=shape)\n",
    "        for y,x in zip(coords[0],coords[1]):\n",
    "            y*= shape[0]\n",
    "            x*= shape[1]\n",
    "\n",
    "            y = int(y)\n",
    "            x = int(x)\n",
    "\n",
    "            density[y-1,x-1] += 1\n",
    "        return density\n",
    "\n",
    "    @staticmethod\n",
    "    def kernel(size, ktype):\n",
    "        \"\"\" Returns a kernel of specified size and type\n",
    "        Args:\n",
    "            size: Kernel size\n",
    "            ktype: Type of kernel. Either uniform gaussian or disk are provided.\n",
    "        \"\"\"\n",
    "        if ktype == \"uniform\":\n",
    "            return np.ones((size,size))\n",
    "        elif ktype == \"gaussian\":\n",
    "            k = FastDensityClustering.gaussian_kernel(size=size)\n",
    "            k /= np.max(k)\n",
    "            return k\n",
    "        elif ktype == \"disk\":\n",
    "            k = FastDensityClustering.gaussian_kernel(size=size)\n",
    "            k /= np.max(k)\n",
    "            return k > 0.03\n",
    "\n",
    "    @staticmethod\n",
    "    def collapse_iteration(arr,kernel, labels=None):\n",
    "        \"\"\" Determins center of gravity for each non-zero (forground pixel) and it's surround weighted by the kernel\n",
    "            and increases mass at named target position/pixel by the mass of the source pixel.\n",
    "        Args:\n",
    "            arr: Grayscale array of positive values where value zero stands for the background and positive values denote the mass for a given foreground pixel.\n",
    "            kernel: Kernel used to weight the influance of nearby pixels in computing the center of mass\n",
    "        \"\"\"\n",
    "        kernel_width = kernel.shape[0]\n",
    "        kernel_height = kernel.shape[1]\n",
    "        ys, xs = np.where(arr>0)\n",
    "        new = np.zeros(arr.shape)\n",
    "        abs_shift = 0\n",
    "\n",
    "        for y, x in zip(ys,xs):\n",
    "            snippet = arr[y-kernel_width//2:(y+kernel_width//2)+1, x-kernel_width//2:(x+kernel_width//2)+1]\n",
    "\n",
    "            snippet = kernel * snippet\n",
    "            weights_x = np.mean(snippet,axis=0)\n",
    "            weights_y = np.mean(snippet,axis=1)\n",
    "\n",
    "            shift_x = np.average(np.arange(kernel_width),weights=weights_x)#The inner mean returns x values, the outer is their mean -> shift x\n",
    "            shift_y = np.average(np.arange(kernel_height),weights=weights_y)#The inner mean returns y values, the outer is their mean -> shift y\n",
    "            shift_x -= (kernel_width-1)/2\n",
    "            shift_y -= (kernel_height-1)/2\n",
    "\n",
    "\n",
    "            y1 = int(y+shift_y)\n",
    "            x1 = int(x+shift_x)\n",
    "\n",
    "            abs_shift += np.abs(shift_x) + np.abs(shift_y)\n",
    "            new[y1,x1] += arr[y,x]\n",
    "            if type(labels) != type(None):\n",
    "                if y1 != y or x1 != x:\n",
    "                    new_list = []\n",
    "                    new_list.extend(labels[y1,x1])\n",
    "                    new_list.extend(labels[y,x])\n",
    "\n",
    "                    labels[y1,x1] = new_list\n",
    "                    labels[y,x] = []\n",
    "                \n",
    "\n",
    "        return new, abs_shift/len(xs), labels\n",
    "\n",
    "    @staticmethod\n",
    "    def collapse(arr, iterations = None,gravity_type=\"uniform\", gravity_size=5, labels=True):\n",
    "        \"\"\" Performs clustering by iteratively moving all mass densities (non-zero/foreground pixels) to their center of mass.\n",
    "        If no value for iterations is specified the algorithm runs until convergence is achieved and the movement is marginally.\n",
    "        Args:\n",
    "            arr: Array of positive gray values\n",
    "            iterations: Number of iterations. If no value for iterations is specified the algorithm runs until convergence is achieved.\n",
    "            gravity_type: Either \"uniform\", \"gaussian\" or \"disk\". The contributions to the center of mass for one pixels by its surround are weighted accordingly.\n",
    "            gravity_size: The size of the gravity kernel.\n",
    "        Returns:\n",
    "            Array representation of cluster centers. Each cluster center is represented by a non-zero pixel.\n",
    "        \"\"\"\n",
    "        epsilon = None\n",
    "        if not iterations:\n",
    "            iterations = 100000\n",
    "            epsilon = 1.0e-16\n",
    "\n",
    "        if gravity_size % 2 == 0:\n",
    "            gravity_size += 1\n",
    "        k = FastDensityClustering.kernel(gravity_size,gravity_type)\n",
    "        arr = np.pad(arr,gravity_size, \"constant\")\n",
    "        \n",
    "        if not labels:\n",
    "            labels = None\n",
    "        else:\n",
    "            labels = np.ndarray(arr.shape, dtype=object)\n",
    "            labels.fill([])\n",
    "            ys, xs = np.where(arr>0)\n",
    "            for y, x in zip(ys,xs):\n",
    "                labels[y,x] = [[y-gravity_size,x-gravity_size]]\n",
    "            \n",
    "        for x in range(iterations):\n",
    "            arr, shift, labels = FastDensityClustering.collapse_iteration(arr,k, labels)\n",
    "            if epsilon:\n",
    "                if epsilon > shift:\n",
    "                    break\n",
    "                    \n",
    "        labels = np.array(labels[gravity_size:-gravity_size,gravity_size:-gravity_size])\n",
    "        return arr[gravity_size:-gravity_size,gravity_size:-gravity_size], labels\n",
    "\n",
    "    @staticmethod\n",
    "    def density_clustering(arr, iterations = None,gravity_type=\"uniform\", gravity_size=5):\n",
    "        \"\"\" Performs clustering by iteratively moving all mass densities (non-zero/foreground pixels) to their center of mass.\n",
    "        If no value for iterations is specified the algorithm runs until convergence is achieved and the movement is marginally.\n",
    "        Args:\n",
    "            arr: Array of positive gray values\n",
    "            iterations: Number of iterations. If no value for iterations is specified the algorithm runs until convergence is achieved.\n",
    "            gravity_type: Either \"uniform\", \"gaussian\" or \"disk\". The contributions to the center of mass for one pixels by its surround are weighted accordingly.\n",
    "            gravity_size: The size of the gravity kernel.\n",
    "        Returns:\n",
    "            Y and x positions of all detected cluster centers\n",
    "        \"\"\"\n",
    "        cluster_array, raw_labels = FastDensityClustering.collapse(arr,iterations,gravity_type=gravity_type, gravity_size=gravity_size)\n",
    "        center_y,center_x = np.where(cluster_array>0)\n",
    "        labels = np.zeros(cluster_array.shape)\n",
    "        for i in range(0,len(center_y)):\n",
    "            m = np.array(raw_labels[center_y[i],center_x[i]])\n",
    "            labels[m[:,0],m[:,1]] = i\n",
    "            center_y[i] = np.mean(m[:,0])\n",
    "            center_x[i] = np.mean(m[:,1])\n",
    "\n",
    "        return center_y, center_x, cluster_array, labels\n"
   ]
  },
  {
   "cell_type": "code",
   "execution_count": 181,
   "metadata": {},
   "outputs": [],
   "source": [
    "import matplotlib.pyplot as plt\n",
    "from sklearn.datasets import make_blobs\n",
    "\n",
    "def get_coords(n_centers = 10):\n",
    "    features, target = make_blobs(n_samples = 50 * n_centers, n_features = 2, \n",
    "                                    centers = n_centers, cluster_std = 5/n_centers, shuffle = True)\n",
    "    coords = np.array([features[:,0],features[:,1]])\n",
    "    return coords\n"
   ]
  },
  {
   "cell_type": "code",
   "execution_count": 182,
   "metadata": {},
   "outputs": [],
   "source": [
    "def points_and_background(img, x,y, point_size=5, marker =\"x\"):\n",
    "    \"\"\" Prints samled points in front of image\n",
    "    Args:\n",
    "        img: Image as numpy array\n",
    "        x: Vector of x positions\n",
    "        y: Vector of y positions\n",
    "\n",
    "    \"\"\"\n",
    "    fig, ax = plt.subplots(1, figsize=(12,10))\n",
    "\n",
    "    ax.set_xlim((0, img.shape[1]))\n",
    "    ax.set_ylim((img.shape[0], 0))\n",
    "    ax.imshow(img,cmap=\"gray\")\n",
    "    ax.scatter(x,y, s=point_size,c=\"red\",marker=marker)"
   ]
  },
  {
   "cell_type": "code",
   "execution_count": 190,
   "metadata": {},
   "outputs": [
    {
     "data": {
      "image/png": "[encoded data removed]",
      "text/plain": [
       "<Figure size 864x720 with 1 Axes>"
      ]
     },
     "metadata": {
      "needs_background": "light"
     },
     "output_type": "display_data"
    }
   ],
   "source": [
    "density = FastDensityClustering.density_from_coordinates(get_coords(100),shape=[100,100])>0\n",
    "center_y, center_x, cluster_array, labels = FastDensityClustering.density_clustering(density, gravity_size=2)\n",
    "\n",
    "points_and_background(density,center_x,center_y)"
   ]
  },
  {
   "cell_type": "code",
   "execution_count": 191,
   "metadata": {},
   "outputs": [],
   "source": [
    "#plt.imshow(np.array([[len(m) for m in map] for map in mappings]))"
   ]
  },
  {
   "cell_type": "code",
   "execution_count": 192,
   "metadata": {},
   "outputs": [
    {
     "data": {
      "text/plain": [
       "<matplotlib.image.AxesImage at 0x7f559fe4d210>"
      ]
     },
     "execution_count": 192,
     "metadata": {},
     "output_type": "execute_result"
    },
    {
     "data": {
      "image/png": "[encoded data removed]",
      "text/plain": [
       "<Figure size 432x288 with 1 Axes>"
      ]
     },
     "metadata": {
      "needs_background": "light"
     },
     "output_type": "display_data"
    }
   ],
   "source": [
    "plt.imshow(labels[:], cmap=\"prism\")"
   ]
  },
  {
   "cell_type": "code",
   "execution_count": 130,
   "metadata": {},
   "outputs": [],
   "source": [
    "import sys\n",
    "import numpy\n",
    "numpy.set_printoptions(threshold=sys.maxsize)"
   ]
  },
  {
   "cell_type": "code",
   "execution_count": 131,
   "metadata": {},
   "outputs": [],
   "source": [
    "import timeit"
   ]
  },
  {
   "cell_type": "code",
   "execution_count": 132,
   "metadata": {},
   "outputs": [],
   "source": [
    "d = None\n",
    "n_points = []\n",
    "time = []\n",
    "\n",
    "def experiment():\n",
    "    global d\n",
    "    FastDensityClustering.density_clustering(d)\n",
    "\n",
    "def evaluate(n_cluster_centers,repetitions = 5):\n",
    "    global d\n",
    "    global n_points\n",
    "    global time\n",
    "    n_points = []\n",
    "    time = []\n",
    "    for n in n_cluster_centers:\n",
    "        d = FastDensityClustering.density_from_coordinates(get_coords(n),shape=[n,n])>0\n",
    "        t = np.mean(timeit.repeat(\"for x in range(5): experiment ()\", \"from __main__ import experiment\", number=repetitions))/repetitions\n",
    "        n_points.append(np.sum(d))\n",
    "        time.append(np.sum(t))\n",
    "        print(\".\", end=\"\")\n",
    "    return time, n_points"
   ]
  },
  {
   "cell_type": "code",
   "execution_count": 133,
   "metadata": {},
   "outputs": [
    {
     "name": "stdout",
     "output_type": "stream",
     "text": [
      "........................"
     ]
    }
   ],
   "source": [
    "time, n_points = evaluate(list(range(10,250,10)))"
   ]
  },
  {
   "cell_type": "code",
   "execution_count": 122,
   "metadata": {},
   "outputs": [
    {
     "data": {
      "text/plain": [
       "<matplotlib.collections.PathCollection at 0x7f55a0a3dad0>"
      ]
     },
     "execution_count": 122,
     "metadata": {},
     "output_type": "execute_result"
    },
    {
     "data": {
      "image/png": "[encoded data removed]",
      "text/plain": [
       "<Figure size 432x288 with 1 Axes>"
      ]
     },
     "metadata": {
      "needs_background": "light"
     },
     "output_type": "display_data"
    }
   ],
   "source": [
    "plt.scatter(time, n_points)"
   ]
  },
  {
   "cell_type": "code",
   "execution_count": null,
   "metadata": {},
   "outputs": [],
   "source": []
  }
 ],
 "metadata": {
  "kernelspec": {
   "display_name": "Python 3",
   "language": "python",
   "name": "python3"
  },
  "language_info": {
   "codemirror_mode": {
    "name": "ipython",
    "version": 3
   },
   "file_extension": ".py",
   "mimetype": "text/x-python",
   "name": "python",
   "nbconvert_exporter": "python",
   "pygments_lexer": "ipython3",
   "version": "3.7.6"
  }
 },
 "nbformat": 4,
 "nbformat_minor": 4
}
