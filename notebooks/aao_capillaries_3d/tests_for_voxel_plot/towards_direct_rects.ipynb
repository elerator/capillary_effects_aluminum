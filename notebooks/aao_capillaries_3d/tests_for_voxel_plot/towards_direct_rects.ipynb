{
 "cells": [
  {
   "cell_type": "code",
   "execution_count": 147,
   "metadata": {},
   "outputs": [
    {
     "data": {
      "text/plain": [
       "<matplotlib.image.AxesImage at 0x7ffd2bc129d0>"
      ]
     },
     "execution_count": 147,
     "metadata": {},
     "output_type": "execute_result"
    },
    {
     "data": {
      "image/png": "[encoded data removed]",
      "text/plain": [
       "<Figure size 720x720 with 1 Axes>"
      ]
     },
     "metadata": {
      "needs_background": "light"
     },
     "output_type": "display_data"
    }
   ],
   "source": [
    "import matplotlib.pyplot as plt\n",
    "import numpy as np\n",
    "\n",
    "test_array = np.zeros([20,20])\n",
    "test_array[8:14,6:12] = 1\n",
    "test_array[8:9,6] = 0\n",
    "test_array[12:14,11] = 0\n",
    "test_array[12:14,6] = 0\n",
    "test_array[10,:8] = 0\n",
    "\n",
    "test_array[8,15] = 1\n",
    "\n",
    "\n",
    "fig,ax=plt.subplots(figsize=(10,10))\n",
    "ax.imshow(test_array)\n"
   ]
  },
  {
   "cell_type": "code",
   "execution_count": 256,
   "metadata": {},
   "outputs": [],
   "source": [
    "from collections import defaultdict\n",
    "import numpy as np\n",
    "\n",
    "def zero_crossings(vector):\n",
    "    \"\"\" Returns the positions of the zero crossings\n",
    "    Args:\n",
    "        vector: Vector with potentially positive and negative values\n",
    "    Returns:\n",
    "        zero_crossings: Position of the zero crossings\n",
    "    \"\"\"\n",
    "    return np.where(np.diff(np.sign(vector)))[0]\n",
    "\n",
    "def get_start_stop(vector):\n",
    "    \"\"\" Checks for continuous segments of ones and returns start and stop coordinates\n",
    "    Args:\n",
    "        vector: Binary numpy array\n",
    "    Returns:\n",
    "        row_start_stop: \n",
    "    \"\"\"\n",
    "    row_start_stop = zero_crossings(vector-0.5)\n",
    "    assert len(row_start_stop)%2 == 0\n",
    "    row_start_stop = np.split(row_start_stop, len(row_start_stop)//2)\n",
    "    row_start_stop = [list(item) for item in row_start_stop]\n",
    "    return row_start_stop\n",
    "\n",
    "def triangulate_pixels(array):\n",
    "    \"\"\" Converts pixels into coordinates of triangles that cover the area of the pixels\n",
    "    Args: \n",
    "        array: Binary array with foreground and background pixels\n",
    "    Returns: \n",
    "        triangles: Numpy array of coordinates for triangles that cover the pixels.\n",
    "                    Each triple of subsequent coordinates relates to a triangle.\n",
    "             \n",
    "    \"\"\"\n",
    "    rects = get_rectangles(array)\n",
    "    top_left = rects[:,[0,2]]\n",
    "    bottom_left = rects[:,[1,2]]\n",
    "    bottom_right = rects[:,[1,3]]\n",
    "    top_right = rects[:,[2,3]]\n",
    "    \n",
    "    triangles1 = np.ndarray((len(rects)*3,2))\n",
    "    triangles1[::3,:] = top_left\n",
    "    triangles1[1::3,:] = bottom_left\n",
    "    triangles1[2::3,:] = bottom_right\n",
    "    \n",
    "    triangles2 = np.ndarray((len(rects)*3,2))\n",
    "    triangles2[::3,:] = top_left\n",
    "    triangles2[1::3,:] = top_right\n",
    "    triangles2[2::3,:] = bottom_right\n",
    "    \n",
    "    triangles = np.vstack([triangles1,triangles2])\n",
    "\n",
    "    return triangles\n",
    "\n",
    "\n",
    "def get_rectangles(array):\n",
    "    \"\"\" Splits foreground pixels of array into rectangles by scanning row wise for changes.\n",
    "    Args:\n",
    "        array: Binary array of pixels\n",
    "    Returns:\n",
    "        rectangle: Numpy array where each row contains the coordinates in order: left, right top and bottom \n",
    "    \"\"\"\n",
    "    ys, xs = np.where(array)\n",
    "    ys = list(set(ys))\n",
    "    old_start_stop = get_start_stop(array[ys[0],:])#e.g. [[ 6, 11], [14, 15]]\n",
    "    left_right_to_top = defaultdict(dict)\n",
    "    \n",
    "    for left, right in old_start_stop:\n",
    "        left_right_to_top[left][right] = ys[0]\n",
    "        \n",
    "    rectangles = []\n",
    "    \n",
    "    for y in ys[1:]:\n",
    "        new_start_stop = get_start_stop(array[y,:])\n",
    "        for old in old_start_stop:\n",
    "            if not old in new_start_stop:\n",
    "                bottom = y - 1\n",
    "                left = old[0]\n",
    "                right = old[1]\n",
    "                top = left_right_to_top[left][right]\n",
    "                rectangles.append([left+1,right,top,bottom])\n",
    "                del(left_right_to_top[left][right])\n",
    "        for new in new_start_stop:\n",
    "            if not new in old_start_stop:\n",
    "                left = new[0]\n",
    "                right = new[1]\n",
    "                left_right_to_top[left][right] = y\n",
    "        old_start_stop = new_start_stop\n",
    "    \n",
    "    #The last ones\n",
    "    for left, right in old_start_stop:\n",
    "        bottom = ys[-1]\n",
    "        top = left_right_to_top[left][right]\n",
    "        rectangles.append([left+1,right,top,bottom])\n",
    "        \n",
    "        \n",
    "    rectangle = np.array(rectangles, dtype=np.float64)\n",
    "    rectangle[:,0] -= 0.5\n",
    "    rectangle[:,1] += 0.5\n",
    "    rectangle[:,2] -= 0.5\n",
    "    rectangle[:,3] += 0.5\n",
    "    return rectangle"
   ]
  },
  {
   "cell_type": "code",
   "execution_count": 254,
   "metadata": {},
   "outputs": [
    {
     "data": {
      "text/plain": [
       "array([[ 6.5, 11.5,  7.5,  8.5],\n",
       "       [14.5, 15.5,  7.5,  8.5],\n",
       "       [ 5.5, 11.5,  8.5,  9.5],\n",
       "       [ 7.5, 11.5,  9.5, 10.5],\n",
       "       [ 5.5, 11.5, 10.5, 11.5],\n",
       "       [ 6.5, 10.5, 11.5, 13.5]])"
      ]
     },
     "execution_count": 254,
     "metadata": {},
     "output_type": "execute_result"
    }
   ],
   "source": [
    "rects = get_rectangles(test_array)\n",
    "rects"
   ]
  },
  {
   "cell_type": "code",
   "execution_count": 255,
   "metadata": {},
   "outputs": [
    {
     "data": {
      "text/plain": [
       "array([[ 6.5,  7.5],\n",
       "       [11.5,  7.5],\n",
       "       [11.5,  8.5],\n",
       "       [14.5,  7.5],\n",
       "       [15.5,  7.5],\n",
       "       [15.5,  8.5],\n",
       "       [ 5.5,  8.5],\n",
       "       [11.5,  8.5],\n",
       "       [11.5,  9.5],\n",
       "       [ 7.5,  9.5],\n",
       "       [11.5,  9.5],\n",
       "       [11.5, 10.5],\n",
       "       [ 5.5, 10.5],\n",
       "       [11.5, 10.5],\n",
       "       [11.5, 11.5],\n",
       "       [ 6.5, 11.5],\n",
       "       [10.5, 11.5],\n",
       "       [10.5, 13.5],\n",
       "       [ 6.5,  7.5],\n",
       "       [ 7.5,  8.5],\n",
       "       [11.5,  8.5],\n",
       "       [14.5,  7.5],\n",
       "       [ 7.5,  8.5],\n",
       "       [15.5,  8.5],\n",
       "       [ 5.5,  8.5],\n",
       "       [ 8.5,  9.5],\n",
       "       [11.5,  9.5],\n",
       "       [ 7.5,  9.5],\n",
       "       [ 9.5, 10.5],\n",
       "       [11.5, 10.5],\n",
       "       [ 5.5, 10.5],\n",
       "       [10.5, 11.5],\n",
       "       [11.5, 11.5],\n",
       "       [ 6.5, 11.5],\n",
       "       [11.5, 13.5],\n",
       "       [10.5, 13.5]])"
      ]
     },
     "execution_count": 255,
     "metadata": {},
     "output_type": "execute_result"
    }
   ],
   "source": [
    "tris = triangulate_pixels(test_array)\n",
    "tris"
   ]
  },
  {
   "cell_type": "code",
   "execution_count": 227,
   "metadata": {},
   "outputs": [
    {
     "data": {
      "text/plain": [
       "<matplotlib.image.AxesImage at 0x7ffd2b72acd0>"
      ]
     },
     "execution_count": 227,
     "metadata": {},
     "output_type": "execute_result"
    },
    {
     "data": {
      "image/png": "[encoded data removed]",
      "text/plain": [
       "<Figure size 432x288 with 1 Axes>"
      ]
     },
     "metadata": {
      "needs_background": "light"
     },
     "output_type": "display_data"
    }
   ],
   "source": [
    "import matplotlib.patches as patches\n",
    "fig, ax = plt.subplots()\n",
    "\n",
    "for left, right, top, bottom in rects:\n",
    "    rect = patches.Rectangle((left,bottom),right-left,top-bottom,linewidth=1,edgecolor='r',facecolor='none')\n",
    "    ax.add_patch(rect)\n",
    "ax.imshow(test_array)\n"
   ]
  },
  {
   "cell_type": "code",
   "execution_count": 228,
   "metadata": {},
   "outputs": [
    {
     "data": {
      "text/plain": [
       "True"
      ]
     },
     "execution_count": 228,
     "metadata": {},
     "output_type": "execute_result"
    }
   ],
   "source": [
    "[6,11] in get_start_stop(test_array[ys[0],:])"
   ]
  },
  {
   "cell_type": "code",
   "execution_count": 229,
   "metadata": {},
   "outputs": [
    {
     "ename": "ValueError",
     "evalue": "diff requires input that is at least one dimensional",
     "output_type": "error",
     "traceback": [
      "\u001b[0;31m---------------------------------------------------------------------------\u001b[0m",
      "\u001b[0;31mValueError\u001b[0m                                Traceback (most recent call last)",
      "\u001b[0;32m<ipython-input-229-d4c53b890b08>\u001b[0m in \u001b[0;36m<module>\u001b[0;34m\u001b[0m\n\u001b[1;32m      1\u001b[0m \u001b[0mys\u001b[0m\u001b[0;34m,\u001b[0m \u001b[0mxs\u001b[0m \u001b[0;34m=\u001b[0m \u001b[0mnp\u001b[0m\u001b[0;34m.\u001b[0m\u001b[0mwhere\u001b[0m\u001b[0;34m(\u001b[0m\u001b[0mtest_array\u001b[0m\u001b[0;34m)\u001b[0m\u001b[0;34m\u001b[0m\u001b[0;34m\u001b[0m\u001b[0m\n\u001b[1;32m      2\u001b[0m \u001b[0mys\u001b[0m \u001b[0;34m=\u001b[0m \u001b[0mlist\u001b[0m\u001b[0;34m(\u001b[0m\u001b[0mset\u001b[0m\u001b[0;34m(\u001b[0m\u001b[0mys\u001b[0m\u001b[0;34m)\u001b[0m\u001b[0;34m)\u001b[0m\u001b[0;34m\u001b[0m\u001b[0;34m\u001b[0m\u001b[0m\n\u001b[0;32m----> 3\u001b[0;31m \u001b[0mrow_start_stop\u001b[0m \u001b[0;34m=\u001b[0m \u001b[0mzero_crossings\u001b[0m\u001b[0;34m(\u001b[0m\u001b[0;34m-\u001b[0m\u001b[0;36m.5\u001b[0m\u001b[0;34m)\u001b[0m\u001b[0;34m\u001b[0m\u001b[0;34m\u001b[0m\u001b[0m\n\u001b[0m\u001b[1;32m      4\u001b[0m \u001b[0;32massert\u001b[0m \u001b[0mlen\u001b[0m\u001b[0;34m(\u001b[0m\u001b[0mrow_start_stop\u001b[0m\u001b[0;34m)\u001b[0m\u001b[0;34m%\u001b[0m\u001b[0;36m2\u001b[0m \u001b[0;34m==\u001b[0m \u001b[0;36m0\u001b[0m\u001b[0;34m\u001b[0m\u001b[0;34m\u001b[0m\u001b[0m\n\u001b[1;32m      5\u001b[0m \u001b[0mrow_start_stop\u001b[0m \u001b[0;34m=\u001b[0m \u001b[0mnp\u001b[0m\u001b[0;34m.\u001b[0m\u001b[0msplit\u001b[0m\u001b[0;34m(\u001b[0m\u001b[0mrow_start_stop\u001b[0m\u001b[0;34m,\u001b[0m \u001b[0;36m2\u001b[0m\u001b[0;34m)\u001b[0m\u001b[0;34m\u001b[0m\u001b[0;34m\u001b[0m\u001b[0m\n",
      "\u001b[0;32m<ipython-input-148-482e3687aab8>\u001b[0m in \u001b[0;36mzero_crossings\u001b[0;34m(vector)\u001b[0m\n\u001b[1;32m      2\u001b[0m \u001b[0;34m\u001b[0m\u001b[0m\n\u001b[1;32m      3\u001b[0m \u001b[0;32mdef\u001b[0m \u001b[0mzero_crossings\u001b[0m\u001b[0;34m(\u001b[0m\u001b[0mvector\u001b[0m\u001b[0;34m)\u001b[0m\u001b[0;34m:\u001b[0m\u001b[0;34m\u001b[0m\u001b[0;34m\u001b[0m\u001b[0m\n\u001b[0;32m----> 4\u001b[0;31m     \u001b[0;32mreturn\u001b[0m \u001b[0mnp\u001b[0m\u001b[0;34m.\u001b[0m\u001b[0mwhere\u001b[0m\u001b[0;34m(\u001b[0m\u001b[0mnp\u001b[0m\u001b[0;34m.\u001b[0m\u001b[0mdiff\u001b[0m\u001b[0;34m(\u001b[0m\u001b[0mnp\u001b[0m\u001b[0;34m.\u001b[0m\u001b[0msign\u001b[0m\u001b[0;34m(\u001b[0m\u001b[0mvector\u001b[0m\u001b[0;34m)\u001b[0m\u001b[0;34m)\u001b[0m\u001b[0;34m)\u001b[0m\u001b[0;34m[\u001b[0m\u001b[0;36m0\u001b[0m\u001b[0;34m]\u001b[0m\u001b[0;34m\u001b[0m\u001b[0;34m\u001b[0m\u001b[0m\n\u001b[0m",
      "\u001b[0;32m<__array_function__ internals>\u001b[0m in \u001b[0;36mdiff\u001b[0;34m(*args, **kwargs)\u001b[0m\n",
      "\u001b[0;32m~/anaconda3/lib/python3.7/site-packages/numpy/lib/function_base.py\u001b[0m in \u001b[0;36mdiff\u001b[0;34m(a, n, axis, prepend, append)\u001b[0m\n\u001b[1;32m   1233\u001b[0m     \u001b[0mnd\u001b[0m \u001b[0;34m=\u001b[0m \u001b[0ma\u001b[0m\u001b[0;34m.\u001b[0m\u001b[0mndim\u001b[0m\u001b[0;34m\u001b[0m\u001b[0;34m\u001b[0m\u001b[0m\n\u001b[1;32m   1234\u001b[0m     \u001b[0;32mif\u001b[0m \u001b[0mnd\u001b[0m \u001b[0;34m==\u001b[0m \u001b[0;36m0\u001b[0m\u001b[0;34m:\u001b[0m\u001b[0;34m\u001b[0m\u001b[0;34m\u001b[0m\u001b[0m\n\u001b[0;32m-> 1235\u001b[0;31m         \u001b[0;32mraise\u001b[0m \u001b[0mValueError\u001b[0m\u001b[0;34m(\u001b[0m\u001b[0;34m\"diff requires input that is at least one dimensional\"\u001b[0m\u001b[0;34m)\u001b[0m\u001b[0;34m\u001b[0m\u001b[0;34m\u001b[0m\u001b[0m\n\u001b[0m\u001b[1;32m   1236\u001b[0m     \u001b[0maxis\u001b[0m \u001b[0;34m=\u001b[0m \u001b[0mnormalize_axis_index\u001b[0m\u001b[0;34m(\u001b[0m\u001b[0maxis\u001b[0m\u001b[0;34m,\u001b[0m \u001b[0mnd\u001b[0m\u001b[0;34m)\u001b[0m\u001b[0;34m\u001b[0m\u001b[0;34m\u001b[0m\u001b[0m\n\u001b[1;32m   1237\u001b[0m \u001b[0;34m\u001b[0m\u001b[0m\n",
      "\u001b[0;31mValueError\u001b[0m: diff requires input that is at least one dimensional"
     ]
    }
   ],
   "source": [
    "ys, xs = np.where(test_array)\n",
    "ys = list(set(ys))\n",
    "row_start_stop = zero_crossings(-.5)\n",
    "assert len(row_start_stop)%2 == 0\n",
    "row_start_stop = np.split(row_start_stop, 2)"
   ]
  },
  {
   "cell_type": "code",
   "execution_count": 182,
   "metadata": {},
   "outputs": [
    {
     "data": {
      "text/plain": [
       "[array([ 6, 11]), array([14, 15])]"
      ]
     },
     "execution_count": 182,
     "metadata": {},
     "output_type": "execute_result"
    }
   ],
   "source": [
    "row_start_stop"
   ]
  },
  {
   "cell_type": "code",
   "execution_count": 47,
   "metadata": {},
   "outputs": [
    {
     "name": "stdout",
     "output_type": "stream",
     "text": [
      "[array([ 6, 11]), array([14, 15])]\n",
      "[array([5]), array([11])]\n",
      "[array([7]), array([11])]\n",
      "[array([5]), array([11])]\n",
      "[array([5]), array([11])]\n",
      "[array([6]), array([10])]\n"
     ]
    }
   ],
   "source": [
    "rectangles = []\n",
    "current_left_vals = []\n",
    "current_right_vals = []\n",
    "\n",
    "for y in set(ys):\n",
    "    row_start_stop = zero_crossings(test_array[y,:]-.5)\n",
    "    assert len(row_start_stop)%2 == 0\n",
    "    row_start_stop = np.split(row_start_stop, 2)\n",
    "    print(row_start_stop)\n",
    "    \n"
   ]
  },
  {
   "cell_type": "code",
   "execution_count": null,
   "metadata": {},
   "outputs": [],
   "source": []
  }
 ],
 "metadata": {
  "kernelspec": {
   "display_name": "Python 3",
   "language": "python",
   "name": "python3"
  },
  "language_info": {
   "codemirror_mode": {
    "name": "ipython",
    "version": 3
   },
   "file_extension": ".py",
   "mimetype": "text/x-python",
   "name": "python",
   "nbconvert_exporter": "python",
   "pygments_lexer": "ipython3",
   "version": "3.7.6"
  }
 },
 "nbformat": 4,
 "nbformat_minor": 4
}
